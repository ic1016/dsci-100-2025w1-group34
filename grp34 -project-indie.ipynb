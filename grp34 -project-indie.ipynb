{
 "cells": [
  {
   "cell_type": "code",
   "execution_count": 145,
   "id": "f1d83c98-c9e8-441e-a8f7-8b7c082cd01f",
   "metadata": {},
   "outputs": [
    {
     "name": "stderr",
     "output_type": "stream",
     "text": [
      "\u001b[1mRows: \u001b[22m\u001b[34m196\u001b[39m \u001b[1mColumns: \u001b[22m\u001b[34m7\u001b[39m\n",
      "\u001b[36m──\u001b[39m \u001b[1mColumn specification\u001b[22m \u001b[36m────────────────────────────────────────────────────────\u001b[39m\n",
      "\u001b[1mDelimiter:\u001b[22m \",\"\n",
      "\u001b[31mchr\u001b[39m (4): experience, hashedEmail, name, gender\n",
      "\u001b[32mdbl\u001b[39m (2): played_hours, Age\n",
      "\u001b[33mlgl\u001b[39m (1): subscribe\n",
      "\n",
      "\u001b[36mℹ\u001b[39m Use `spec()` to retrieve the full column specification for this data.\n",
      "\u001b[36mℹ\u001b[39m Specify the column types or set `show_col_types = FALSE` to quiet this message.\n"
     ]
    }
   ],
   "source": [
    "library(tidyverse)\n",
    "library(repr)\n",
    "library(tidymodels)\n",
    "options(repr.matrix.max.rows = 6)\n",
    "players <- read_csv(\"data/players.csv\")"
   ]
  },
  {
   "cell_type": "code",
   "execution_count": 146,
   "id": "add2f55c-9426-42e7-9a1d-f4dde90fe368",
   "metadata": {},
   "outputs": [
    {
     "name": "stderr",
     "output_type": "stream",
     "text": [
      "\u001b[1mRows: \u001b[22m\u001b[34m1535\u001b[39m \u001b[1mColumns: \u001b[22m\u001b[34m5\u001b[39m\n",
      "\u001b[36m──\u001b[39m \u001b[1mColumn specification\u001b[22m \u001b[36m────────────────────────────────────────────────────────\u001b[39m\n",
      "\u001b[1mDelimiter:\u001b[22m \",\"\n",
      "\u001b[31mchr\u001b[39m (3): hashedEmail, start_time, end_time\n",
      "\u001b[32mdbl\u001b[39m (2): original_start_time, original_end_time\n",
      "\n",
      "\u001b[36mℹ\u001b[39m Use `spec()` to retrieve the full column specification for this data.\n",
      "\u001b[36mℹ\u001b[39m Specify the column types or set `show_col_types = FALSE` to quiet this message.\n"
     ]
    }
   ],
   "source": [
    "sessions <- read_csv(\"data/sessions.csv\")"
   ]
  },
  {
   "cell_type": "code",
   "execution_count": 152,
   "id": "9fa8868d-26d0-4a96-bf3b-83616e475112",
   "metadata": {},
   "outputs": [],
   "source": [
    "sessions_cleaned <- sessions |> mutate(email = as_factor(hashedEmail)) |> select(email, start_time, end_time)"
   ]
  },
  {
   "cell_type": "code",
   "execution_count": 153,
   "id": "ceeaa02c-6135-46e4-9fe3-8295763a0728",
   "metadata": {},
   "outputs": [],
   "source": [
    "players_sorted <- players |> mutate(email = as_factor(hashedEmail))\n",
    "sessions_named <- sessions_cleaned |> left_join(players_sorted, by = \"email\") |> select(-(hashedEmail))\n",
    "sessions_final <- sessions_named |> select(-(email))"
   ]
  },
  {
   "cell_type": "code",
   "execution_count": 154,
   "id": "f2dfbc18-828f-4e5d-bb7f-c7c61c407641",
   "metadata": {},
   "outputs": [],
   "source": [
    "sessions_final <- sessions_final |> mutate(start = dmy_hm(start_time), end = dmy_hm(end_time), start_date = as_date(start), \n",
    "start_time = format(start, \"%H:%M\"), end_date = as_date(end_time), end_time = format(end, \"%H:%M\"))"
   ]
  },
  {
   "cell_type": "code",
   "execution_count": 155,
   "id": "d5a746fb-ce36-45d3-98ae-0974cecd25f7",
   "metadata": {},
   "outputs": [],
   "source": [
    "sessions_final <- sessions_final |> select(-c(start, end, start_date, end_date)) "
   ]
  },
  {
   "cell_type": "code",
   "execution_count": 156,
   "id": "edf7a18b-2232-4b56-bc45-8d9f35f07942",
   "metadata": {},
   "outputs": [
    {
     "data": {
      "text/html": [
       "<table class=\"dataframe\">\n",
       "<caption>A tibble: 1535 × 8</caption>\n",
       "<thead>\n",
       "\t<tr><th scope=col>start_time</th><th scope=col>end_time</th><th scope=col>experience</th><th scope=col>subscribe</th><th scope=col>played_hours</th><th scope=col>name</th><th scope=col>gender</th><th scope=col>Age</th></tr>\n",
       "\t<tr><th scope=col>&lt;chr&gt;</th><th scope=col>&lt;chr&gt;</th><th scope=col>&lt;chr&gt;</th><th scope=col>&lt;lgl&gt;</th><th scope=col>&lt;dbl&gt;</th><th scope=col>&lt;chr&gt;</th><th scope=col>&lt;chr&gt;</th><th scope=col>&lt;dbl&gt;</th></tr>\n",
       "</thead>\n",
       "<tbody>\n",
       "\t<tr><td>00:00</td><td>00:34</td><td>Regular</td><td>TRUE</td><td>223.1</td><td>Hiroshi</td><td>Male  </td><td>17</td></tr>\n",
       "\t<tr><td>00:00</td><td>02:51</td><td>Amateur</td><td>TRUE</td><td> 48.4</td><td>Xander </td><td>Female</td><td>17</td></tr>\n",
       "\t<tr><td>00:00</td><td>01:26</td><td>Regular</td><td>TRUE</td><td>223.1</td><td>Hiroshi</td><td>Male  </td><td>17</td></tr>\n",
       "\t<tr><td>⋮</td><td>⋮</td><td>⋮</td><td>⋮</td><td>⋮</td><td>⋮</td><td>⋮</td><td>⋮</td></tr>\n",
       "\t<tr><td>23:57</td><td>00:06</td><td>Amateur</td><td>TRUE</td><td> 56.1</td><td>Dana   </td><td>Male      </td><td>23</td></tr>\n",
       "\t<tr><td>23:58</td><td>01:59</td><td>Regular</td><td>TRUE</td><td>223.1</td><td>Hiroshi</td><td>Male      </td><td>17</td></tr>\n",
       "\t<tr><td>23:59</td><td>02:14</td><td>Regular</td><td>TRUE</td><td>218.1</td><td>Akio   </td><td>Non-binary</td><td>20</td></tr>\n",
       "</tbody>\n",
       "</table>\n"
      ],
      "text/latex": [
       "A tibble: 1535 × 8\n",
       "\\begin{tabular}{llllllll}\n",
       " start\\_time & end\\_time & experience & subscribe & played\\_hours & name & gender & Age\\\\\n",
       " <chr> & <chr> & <chr> & <lgl> & <dbl> & <chr> & <chr> & <dbl>\\\\\n",
       "\\hline\n",
       "\t 00:00 & 00:34 & Regular & TRUE & 223.1 & Hiroshi & Male   & 17\\\\\n",
       "\t 00:00 & 02:51 & Amateur & TRUE &  48.4 & Xander  & Female & 17\\\\\n",
       "\t 00:00 & 01:26 & Regular & TRUE & 223.1 & Hiroshi & Male   & 17\\\\\n",
       "\t ⋮ & ⋮ & ⋮ & ⋮ & ⋮ & ⋮ & ⋮ & ⋮\\\\\n",
       "\t 23:57 & 00:06 & Amateur & TRUE &  56.1 & Dana    & Male       & 23\\\\\n",
       "\t 23:58 & 01:59 & Regular & TRUE & 223.1 & Hiroshi & Male       & 17\\\\\n",
       "\t 23:59 & 02:14 & Regular & TRUE & 218.1 & Akio    & Non-binary & 20\\\\\n",
       "\\end{tabular}\n"
      ],
      "text/markdown": [
       "\n",
       "A tibble: 1535 × 8\n",
       "\n",
       "| start_time &lt;chr&gt; | end_time &lt;chr&gt; | experience &lt;chr&gt; | subscribe &lt;lgl&gt; | played_hours &lt;dbl&gt; | name &lt;chr&gt; | gender &lt;chr&gt; | Age &lt;dbl&gt; |\n",
       "|---|---|---|---|---|---|---|---|\n",
       "| 00:00 | 00:34 | Regular | TRUE | 223.1 | Hiroshi | Male   | 17 |\n",
       "| 00:00 | 02:51 | Amateur | TRUE |  48.4 | Xander  | Female | 17 |\n",
       "| 00:00 | 01:26 | Regular | TRUE | 223.1 | Hiroshi | Male   | 17 |\n",
       "| ⋮ | ⋮ | ⋮ | ⋮ | ⋮ | ⋮ | ⋮ | ⋮ |\n",
       "| 23:57 | 00:06 | Amateur | TRUE |  56.1 | Dana    | Male       | 23 |\n",
       "| 23:58 | 01:59 | Regular | TRUE | 223.1 | Hiroshi | Male       | 17 |\n",
       "| 23:59 | 02:14 | Regular | TRUE | 218.1 | Akio    | Non-binary | 20 |\n",
       "\n"
      ],
      "text/plain": [
       "     start_time end_time experience subscribe played_hours name    gender    \n",
       "1    00:00      00:34    Regular    TRUE      223.1        Hiroshi Male      \n",
       "2    00:00      02:51    Amateur    TRUE       48.4        Xander  Female    \n",
       "3    00:00      01:26    Regular    TRUE      223.1        Hiroshi Male      \n",
       "⋮    ⋮          ⋮        ⋮          ⋮         ⋮            ⋮       ⋮         \n",
       "1533 23:57      00:06    Amateur    TRUE       56.1        Dana    Male      \n",
       "1534 23:58      01:59    Regular    TRUE      223.1        Hiroshi Male      \n",
       "1535 23:59      02:14    Regular    TRUE      218.1        Akio    Non-binary\n",
       "     Age\n",
       "1    17 \n",
       "2    17 \n",
       "3    17 \n",
       "⋮    ⋮  \n",
       "1533 23 \n",
       "1534 17 \n",
       "1535 20 "
      ]
     },
     "metadata": {},
     "output_type": "display_data"
    }
   ],
   "source": [
    "sessions_final <- sessions_final |> arrange(start_time)\n",
    "sessions_final"
   ]
  }
 ],
 "metadata": {
  "kernelspec": {
   "display_name": "R",
   "language": "R",
   "name": "ir"
  },
  "language_info": {
   "codemirror_mode": "r",
   "file_extension": ".r",
   "mimetype": "text/x-r-source",
   "name": "R",
   "pygments_lexer": "r",
   "version": "4.3.3"
  }
 },
 "nbformat": 4,
 "nbformat_minor": 5
}
