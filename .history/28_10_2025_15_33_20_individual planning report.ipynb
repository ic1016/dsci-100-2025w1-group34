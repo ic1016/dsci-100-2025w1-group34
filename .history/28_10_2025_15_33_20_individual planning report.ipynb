{
 "cells": [
  {
   "cell_type": "markdown",
   "id": "a4c46e1d-9a90-4567-a733-331b9708b33d",
   "metadata": {},
   "source": [
    "\"Players\" dataset observations:\n",
    "- 196 observations\n",
    "- 7 variables: experience (beginner, amateur, regular, pro, veteran), newsletter subscription (true/false), email, hours played, name, gender, and age\n",
    "- experience, gender, newsletter subscription = categorical variables\n",
    "- age, hours played = quantitative variables\n",
    "- name, email = qualitative (not used for data analysis)\n",
    "- potential errors: subjective ranking system for experience, and not enough specificity in 'hours played' variable: does it mean hours played per session, per numerous sessions, per month, per lifetime, etc.\n",
    "\n",
    "\"Sessions\" dataset observations:\n",
    "- 1535 observations\n",
    "- 5 variables: email, start time (D/M/Y H:M format), end time (same format as prior), original start time (as milliseconds since 1 January 1970, a unix timestamp), and original end time (same format as prior)\n",
    "- original start time, original end time, start time, end time = quantitative variables\n",
    "- email = qualitative (used as an identifier only)\n",
    "- potential errors: logs every session, including very short ones, which causes original start and end variables to be the same, original start and end variables are measured in milliseconds since 1 January 1970, making them difficult to interpret and analyze"
   ]
  },
  {
   "cell_type": "code",
   "execution_count": null,
   "id": "643a2abc-1712-4cbb-b908-04f618b2d6db",
   "metadata": {},
   "outputs": [],
   "source": [
    "library(tidyverse)\n",
    "library(repr)\n",
    "library(tidymodels)\n",
    "options(repr.matrix.max.rows = 6)\n",
    "players <- read_csv(\"data/players.csv\")\n",
    "sessions <- read_csv(\"data/sessions.csv\")\n",
    "\n",
    "sessions_cleaned <- sessions |> mutate(email = as_factor(hashedEmail)) |> select(-hashedEmail)\n",
    "\n",
    "players_sorted <- players |> mutate(email = as_factor(hashedEmail))\n",
    "sessions_named <- sessions_cleaned |> left_join(players_sorted, by = \"email\") |> select(-hashedEmail)\n",
    "\n",
    "data_final <- sessions_named |> mutate(start = dmy_hm(start_time), end = dmy_hm(end_time), start_date = as_date(start), \n",
    "start_time = format(start, \"%H:%M\"), end_date = as_date(end_time), end_time = format(end, \"%H:%M\")) |>\n",
    "select(-start, end, email)\n",
    "\n",
    "#These lines aren't part of wrangling, they're just for computing summary statistics\n",
    "mean_age <- players |> summarise(mean_age = mean(Age, na.rm = TRUE))\n",
    "mean_time <- players |> summarise(mean_time = mean(played_hours, na.rm = TRUE))\n",
    "mean_values <- tibble(mean_time, mean_age)\n",
    "mean_values\n",
    "\n",
    "#visualizations\n",
    "\n",
    "plot_1 <- data_final |> ggplot(aes(x = gender, y = subscribe)) + geom_bar(stat = \"identity\", position = \"dodge\") + xlab(\"Gender\") +\n",
    "ylab(\"Time Played (hours)\")\n",
    "plot_1"
   ]
  },
  {
   "cell_type": "markdown",
   "id": "af8f4741-f2b1-4988-a9b2-c103df01fb1a",
   "metadata": {},
   "source": [
    "Questions:\n",
    "- Broad: What player characteristics and behaviours are most predictive of subscribing to a game-related newsletter, and how do these features differ between various player types?\n",
    "- Specific: Can age, gender, and experience level predict whether or not someone will subscribe to a game-related newsletters?"
   ]
  }
 ],
 "metadata": {
  "kernelspec": {
   "display_name": "R",
   "language": "R",
   "name": "ir"
  },
  "language_info": {
   "codemirror_mode": "r",
   "file_extension": ".r",
   "mimetype": "text/x-r-source",
   "name": "R",
   "pygments_lexer": "r",
   "version": "4.3.3"
  }
 },
 "nbformat": 4,
 "nbformat_minor": 5
}
